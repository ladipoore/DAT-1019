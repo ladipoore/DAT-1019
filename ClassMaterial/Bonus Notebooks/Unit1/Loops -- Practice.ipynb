{
 "cells": [
  {
   "cell_type": "markdown",
   "metadata": {},
   "source": [
    "### Loops & List Comprehensions:  Practice Notebook"
   ]
  },
  {
   "cell_type": "markdown",
   "metadata": {},
   "source": [
    "This notebook is designed to give newcomers additional practice to work on writing for-loops and list comprehensions.  \n",
    "\n",
    "The examples will begin slowly and gradually get a little more complicated.  Most questions can be concisely answered with a list-comprehensions, but if not then it will be noted.  "
   ]
  },
  {
   "cell_type": "markdown",
   "metadata": {},
   "source": [
    "#### Movies List"
   ]
  },
  {
   "cell_type": "markdown",
   "metadata": {},
   "source": [
    "Similar to class 3, the following questions will ask you to write loops through the list of dictionaries that contain information about various types of movies."
   ]
  },
  {
   "cell_type": "code",
   "execution_count": 6,
   "metadata": {},
   "outputs": [],
   "source": [
    "# List of movies dictionaries:\n",
    "\n",
    "movies = [\n",
    "{\n",
    "\"name\": \"Usual Suspects\", \n",
    "\"imdb\": 7.0,\n",
    "\"category\": \"Thriller\"\n",
    "},\n",
    "{\n",
    "\"name\": \"Hitman\",\n",
    "\"imdb\": 6.3,\n",
    "\"category\": \"Action\"\n",
    "},\n",
    "{\n",
    "\"name\": \"Dark Knight\",\n",
    "\"imdb\": 9.0,\n",
    "\"category\": \"Adventure\"\n",
    "},\n",
    "{\n",
    "\"name\": \"The Help\",\n",
    "\"imdb\": 8.0,\n",
    "\"category\": \"Drama\"\n",
    "},\n",
    "{\n",
    "\"name\": \"The Choice\",\n",
    "\"imdb\": 6.2,\n",
    "\"category\": \"Romance\"\n",
    "},\n",
    "{\n",
    "\"name\": \"Colonia\",\n",
    "\"imdb\": 7.4,\n",
    "\"category\": \"Romance\"\n",
    "},\n",
    "{\n",
    "\"name\": \"Love\",\n",
    "\"imdb\": 6.0,\n",
    "\"category\": \"Romance\"\n",
    "},\n",
    "{\n",
    "\"name\": \"Bride Wars\",\n",
    "\"imdb\": 5.4,\n",
    "\"category\": \"Romance\"\n",
    "},\n",
    "{\n",
    "\"name\": \"AlphaJet\",\n",
    "\"imdb\": 3.2,\n",
    "\"category\": \"War\"\n",
    "},\n",
    "{\n",
    "\"name\": \"Ringing Crime\",\n",
    "\"imdb\": 4.0,\n",
    "\"category\": \"Crime\"\n",
    "},\n",
    "{\n",
    "\"name\": \"Joking muck\",\n",
    "\"imdb\": 7.2,\n",
    "\"category\": \"Comedy\"\n",
    "},\n",
    "{\n",
    "\"name\": \"What is the name\",\n",
    "\"imdb\": 9.2,\n",
    "\"category\": \"Suspense\"\n",
    "},\n",
    "{\n",
    "\"name\": \"Detective\",\n",
    "\"imdb\": 7.0,\n",
    "\"category\": \"Suspense\"\n",
    "},\n",
    "{\n",
    "\"name\": \"Exam\",\n",
    "\"imdb\": 4.2,\n",
    "\"category\": \"Thriller\"\n",
    "},\n",
    "{\n",
    "\"name\": \"We Two\",\n",
    "\"imdb\": 7.2,\n",
    "\"category\": \"Romance\"\n",
    "}\n",
    "]"
   ]
  },
  {
   "cell_type": "markdown",
   "metadata": {},
   "source": [
    "**Question 1:** What is the highest rated movie?  What is the lowest rated movie?  \n",
    "\n",
    "**Hint:** The `max()` function can help you out here, although it's not necessary."
   ]
  },
  {
   "cell_type": "code",
   "execution_count": 27,
   "metadata": {},
   "outputs": [
    {
     "name": "stdout",
     "output_type": "stream",
     "text": [
      "The top rated movie(s) in this list: What is the name\n"
     ]
    }
   ],
   "source": [
    "# your answer here\n",
    "highest_rated = max(movie[\"imdb\"] for movie in movies )\n",
    "print(f\"The top rated movie(s) in this list: {next(movie['name'] for movie in movies if movie['imdb']==highest_rated)}\")\n",
    "##used next to get the generator value"
   ]
  },
  {
   "cell_type": "markdown",
   "metadata": {},
   "source": [
    "**Question 2:**  How many thriller movies are there? "
   ]
  },
  {
   "cell_type": "code",
   "execution_count": 31,
   "metadata": {},
   "outputs": [
    {
     "name": "stdout",
     "output_type": "stream",
     "text": [
      "There are 2 thriller movies in this list\n"
     ]
    }
   ],
   "source": [
    "# your answer here\n",
    "print(f\"There are {sum(1 for movie in movies if movie['category']=='Thriller')} thriller movies in this list\")"
   ]
  },
  {
   "cell_type": "markdown",
   "metadata": {},
   "source": [
    "**Question 3:**  What is the average rating of all movies?"
   ]
  },
  {
   "cell_type": "code",
   "execution_count": 35,
   "metadata": {},
   "outputs": [
    {
     "name": "stdout",
     "output_type": "stream",
     "text": [
      "The average movie rating is 6.486666666666666\n"
     ]
    }
   ],
   "source": [
    "# your answer here\n",
    "from statistics import mean\n",
    "print(f\"The average movie rating is {mean(float(movie['imdb']) for movie in movies)}\")"
   ]
  },
  {
   "cell_type": "markdown",
   "metadata": {},
   "source": [
    "**Question 4:** How many movies have an above average rating?"
   ]
  },
  {
   "cell_type": "code",
   "execution_count": 36,
   "metadata": {},
   "outputs": [
    {
     "name": "stdout",
     "output_type": "stream",
     "text": [
      "There are 8 movies with an above average rating\n"
     ]
    }
   ],
   "source": [
    "# your answer here\n",
    "avg = mean(float(movie['imdb']) for movie in movies)\n",
    "print(f\"There are {sum(1 for movie in movies if movie['imdb']>avg)} movies with an above average rating\")"
   ]
  },
  {
   "cell_type": "markdown",
   "metadata": {},
   "source": [
    "**Question 5:** Create a list of all movies that have an above average rating."
   ]
  },
  {
   "cell_type": "code",
   "execution_count": 38,
   "metadata": {},
   "outputs": [
    {
     "data": {
      "text/plain": [
       "['Usual Suspects',\n",
       " 'Dark Knight',\n",
       " 'The Help',\n",
       " 'Colonia',\n",
       " 'Joking muck',\n",
       " 'What is the name',\n",
       " 'Detective',\n",
       " 'We Two']"
      ]
     },
     "execution_count": 38,
     "metadata": {},
     "output_type": "execute_result"
    }
   ],
   "source": [
    "# your answer here\n",
    "movie_list = [movie['name'] for movie in movies if movie['imdb']>avg]\n",
    "movie_list"
   ]
  },
  {
   "cell_type": "markdown",
   "metadata": {},
   "source": [
    "**Question 6:** Create a loop that *stops* as soon as it finds a movie that has a below average rating.\n",
    "\n",
    "**Hint:** the `break` operator is going to be your best bet."
   ]
  },
  {
   "cell_type": "code",
   "execution_count": 41,
   "metadata": {},
   "outputs": [
    {
     "name": "stdout",
     "output_type": "stream",
     "text": [
      "Usual Suspects\n"
     ]
    }
   ],
   "source": [
    "# your answer here\n",
    "for movie in movies:\n",
    "    if movie['imdb']<avg:\n",
    "        break\n",
    "    print(f\"{movie['name']}\")"
   ]
  },
  {
   "cell_type": "markdown",
   "metadata": {},
   "source": [
    "**Question 7:** Write a loop that prints off the name of every movie title, as well as how many words are in its title.  "
   ]
  },
  {
   "cell_type": "code",
   "execution_count": 49,
   "metadata": {},
   "outputs": [
    {
     "name": "stdout",
     "output_type": "stream",
     "text": [
      "Usual Suspects is the movie name and it has 2 word(s) in it\n",
      "Hitman is the movie name and it has 1 word(s) in it\n",
      "Dark Knight is the movie name and it has 2 word(s) in it\n",
      "The Help is the movie name and it has 2 word(s) in it\n",
      "The Choice is the movie name and it has 2 word(s) in it\n",
      "Colonia is the movie name and it has 1 word(s) in it\n",
      "Love is the movie name and it has 1 word(s) in it\n",
      "Bride Wars is the movie name and it has 2 word(s) in it\n",
      "AlphaJet is the movie name and it has 1 word(s) in it\n",
      "Ringing Crime is the movie name and it has 2 word(s) in it\n",
      "Joking muck is the movie name and it has 2 word(s) in it\n",
      "What is the name is the movie name and it has 4 word(s) in it\n",
      "Detective is the movie name and it has 1 word(s) in it\n",
      "Exam is the movie name and it has 1 word(s) in it\n",
      "We Two is the movie name and it has 2 word(s) in it\n"
     ]
    }
   ],
   "source": [
    "# your answer here\n",
    "for movie in movies:\n",
    "    print(f\"{movie['name']} is the movie name and it has {len(movie['name'].split())} word(s) in it\")\n",
    "    "
   ]
  },
  {
   "cell_type": "markdown",
   "metadata": {},
   "source": [
    "**Question 8:** Write a code block that will print off the name of the movie with the highest rating, as well as its title."
   ]
  },
  {
   "cell_type": "code",
   "execution_count": 50,
   "metadata": {},
   "outputs": [
    {
     "name": "stdout",
     "output_type": "stream",
     "text": [
      "What is the name\n"
     ]
    }
   ],
   "source": [
    "# your answer here\n",
    "highest_rating = max(movie['imdb'] for movie in movies)\n",
    "print(next(movie['name'] for movie in movies if movie['imdb']==highest_rating))"
   ]
  },
  {
   "cell_type": "markdown",
   "metadata": {},
   "source": [
    "**Question 9:**  How many movies begin with the word \"The?\"  Make the results case-insensitive."
   ]
  },
  {
   "cell_type": "code",
   "execution_count": 53,
   "metadata": {},
   "outputs": [
    {
     "name": "stdout",
     "output_type": "stream",
     "text": [
      "2\n"
     ]
    }
   ],
   "source": [
    "# your answer here\n",
    "print(sum (1 for movie in movies if movie['name'][:3].lower()== 'the'))"
   ]
  },
  {
   "cell_type": "markdown",
   "metadata": {},
   "source": [
    "**Question 10:** Create a list that contains movies that have the word 'the' in their title.  Make the results case-insensitive."
   ]
  },
  {
   "cell_type": "code",
   "execution_count": 13,
   "metadata": {},
   "outputs": [
    {
     "name": "stdout",
     "output_type": "stream",
     "text": [
      "3\n"
     ]
    }
   ],
   "source": [
    "# your answer here\n",
    "print(sum (1 for movie in movies if 'the' in movie['name'].lower().split()))"
   ]
  },
  {
   "cell_type": "markdown",
   "metadata": {},
   "source": [
    "**Question 11:** Create a list that contains the name and rating of a movie if the word 'the' is contained within its title.  These results should be stored inside a tuple.  Make the results case-insensitive."
   ]
  },
  {
   "cell_type": "code",
   "execution_count": 15,
   "metadata": {},
   "outputs": [
    {
     "name": "stdout",
     "output_type": "stream",
     "text": [
      "[('The Help', 8.0), ('The Choice', 6.2), ('What is the name', 9.2)]\n"
     ]
    }
   ],
   "source": [
    "# your answer here\n",
    "the_movies = [(movie['name'],movie['imdb']) for movie in movies if 'the' in movie['name'].lower().split()]\n",
    "print(the_movies)"
   ]
  },
  {
   "cell_type": "markdown",
   "metadata": {},
   "source": [
    "**Question 12:** Write a code block that checks to see if the average rating for movies with the word 'the' in its title are higher than the average rating overall.  If they are higher, print a message saying as much.  If not, then print something else."
   ]
  },
  {
   "cell_type": "code",
   "execution_count": 19,
   "metadata": {},
   "outputs": [
    {
     "name": "stdout",
     "output_type": "stream",
     "text": [
      "Movies with 'the' in the title have a higher rating\n"
     ]
    }
   ],
   "source": [
    "# your answer here\n",
    "from statistics import mean\n",
    "the_movies_rating = mean(movie['imdb'] for movie in movies if 'the' in movie['name'].lower().split())\n",
    "all_movies_rating = mean(movie['imdb'] for movie in movies)\n",
    "\n",
    "\n",
    "if the_movies_rating > all_movies_rating:\n",
    "    print(\"Movies with 'the' in the title have a higher rating\")\n",
    "else:\n",
    "    print(\"Movies with 'the' in the title do not have a higher rating\")"
   ]
  },
  {
   "cell_type": "markdown",
   "metadata": {},
   "source": [
    "**Question 13:** Create a list that contains the *index positions* of every movie that has an above average rating in our original list."
   ]
  },
  {
   "cell_type": "code",
   "execution_count": 22,
   "metadata": {},
   "outputs": [
    {
     "data": {
      "text/plain": [
       "[0, 2, 3, 5, 10, 11, 12, 14]"
      ]
     },
     "execution_count": 22,
     "metadata": {},
     "output_type": "execute_result"
    }
   ],
   "source": [
    "# your answer here\n",
    "#good_movies_index = [movie.index() for movie in movies if movie['imdb']>all_movies_rating]\n",
    "idx_vals = [idx for idx, val in enumerate(movies) if val['imdb'] > all_movies_rating]\n",
    "idx_vals"
   ]
  },
  {
   "cell_type": "markdown",
   "metadata": {},
   "source": [
    "**Question 14 (More Complicated):** What movie *genre* occurs most frequently?  (You will need to do this in a few steps most likely). "
   ]
  },
  {
   "cell_type": "code",
   "execution_count": null,
   "metadata": {},
   "outputs": [],
   "source": [
    "# your answer here\n"
   ]
  },
  {
   "cell_type": "markdown",
   "metadata": {},
   "source": [
    "**Question 15 (More Complicated):** What is the average rating for every movie genre?  Return the answer in a dictionary, where each key is a genre and the value is its average rating."
   ]
  },
  {
   "cell_type": "code",
   "execution_count": null,
   "metadata": {},
   "outputs": [],
   "source": [
    "# your answer here"
   ]
  }
 ],
 "metadata": {
  "kernelspec": {
   "display_name": "Python 3",
   "language": "python",
   "name": "python3"
  },
  "language_info": {
   "codemirror_mode": {
    "name": "ipython",
    "version": 3
   },
   "file_extension": ".py",
   "mimetype": "text/x-python",
   "name": "python",
   "nbconvert_exporter": "python",
   "pygments_lexer": "ipython3",
   "version": "3.9.0"
  }
 },
 "nbformat": 4,
 "nbformat_minor": 2
}
