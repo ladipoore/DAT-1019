{
 "cells": [
  {
   "cell_type": "markdown",
   "metadata": {},
   "source": [
    "## If-Elif-Else:  Intermediate\n",
    "\n",
    "This notebook contains prompts that ask you to make a number of comparisons between different variables.  "
   ]
  },
  {
   "cell_type": "markdown",
   "metadata": {},
   "source": [
    "---\n",
    "\n",
    "### 1). Write an `if… else` statement for multiple conditions.\n",
    "\n",
    "Print out these recommendations based on the weather conditions:\n",
    "\n",
    "1. The temperature is higher than 60 degrees and it is raining: Bring an umbrella.\n",
    "2. The temperature is lower than or equal to 60 degrees and it is raining: Bring an umbrella and a jacket.\n",
    "3. The temperature is higher than 60 degrees and the sun is shining: Wear a T-shirt.\n",
    "4. The temperature is lower than or equal to 60 degrees and the sun is shining: Bring a jacket."
   ]
  },
  {
   "cell_type": "code",
   "execution_count": 35,
   "metadata": {},
   "outputs": [
    {
     "name": "stdout",
     "output_type": "stream",
     "text": [
      "What's the temperature outside: 40\n",
      "Is it raining or sunshine: raining\n"
     ]
    }
   ],
   "source": [
    "# your code here\n",
    "temperature = int(input(\"What's the temperature outside: \"))\n",
    "weather = input(\"Is it raining or sunshine: \")"
   ]
  },
  {
   "cell_type": "code",
   "execution_count": 36,
   "metadata": {},
   "outputs": [
    {
     "name": "stdout",
     "output_type": "stream",
     "text": [
      "Bring an umbrella and a jacket\n"
     ]
    }
   ],
   "source": [
    "if temperature > 60:\n",
    "    if weather == \"raining\":\n",
    "        print(\"Bring an umbrella\")\n",
    "    elif weather == \"sunshine\":\n",
    "        print(\"Wear a t-shirt\")\n",
    "else:\n",
    "    if weather == \"raining\":\n",
    "        print(\"Bring an umbrella and a jacket\")\n",
    "    elif weather == \"sunshine\":\n",
    "        print(\"Bring a jacket\")"
   ]
  },
  {
   "cell_type": "markdown",
   "metadata": {},
   "source": [
    "### 2). Fizz......buzz.\n",
    "\n",
    "Create an `if` statement that does the following:\n",
    "\n",
    "1. If a number is divisible by 3, print \"fizz.\"\n",
    "2. If a number is divisible by 5, print \"buzz.\" \n",
    "3. If a number is both divisible by 3 and by 5, print \"fizzbuzz.\"\n",
    "4. Otherwise, print just the number.\n",
    "\n",
    "Test it on different numbers to make sure you did it correctly."
   ]
  },
  {
   "cell_type": "code",
   "execution_count": 31,
   "metadata": {},
   "outputs": [
    {
     "name": "stdout",
     "output_type": "stream",
     "text": [
      "Please enter your number for testing: 12\n"
     ]
    }
   ],
   "source": [
    "# your code here\n",
    "number = int(input(\"Please enter your number for testing: \"))"
   ]
  },
  {
   "cell_type": "code",
   "execution_count": 32,
   "metadata": {},
   "outputs": [
    {
     "name": "stdout",
     "output_type": "stream",
     "text": [
      "fizz\n"
     ]
    }
   ],
   "source": [
    "if number%3==0:\n",
    "    if number%5==0:\n",
    "        print(\"fizzbuzz\")\n",
    "    else:\n",
    "        print(\"fizz\")\n",
    "elif number%5==0:\n",
    "    print(\"buzz\")\n",
    "else:\n",
    "    print(number)"
   ]
  },
  {
   "cell_type": "markdown",
   "metadata": {},
   "source": [
    "### 3).  Evaluating a password\n",
    "\n",
    "Now we're going to try and create a prompt that tests a password for the following conditions:\n",
    "\n",
    " - It contains only alpha numeric characters (no special characters)\n",
    " - It contains at least one number\n",
    " - It isn't all numbers\n",
    " \n",
    "If they formatted it correctly, then tell them so.  If they didn't, tell them what they did wrong.\n",
    " \n",
    "**Hint**:  here are some useful string methods to look at:  `isalnum(), isdigit(), isalpha().`  Test them and see how they do and do not evaluate to True and False.\n",
    "\n",
    "You can read more about them here:  https://www.programiz.com/python-programming/methods/string\n",
    "\n",
    "**Test Case**: Try the following passwords to make sure it works:\n",
    "\n",
    " - 'password'  (incorrect - no numbers)\n",
    " - 'password!' (incorrect - special characters)\n",
    " - 'password1' (correct)\n",
    " - '182837576' (incorrect - contains all numbers)"
   ]
  },
  {
   "cell_type": "code",
   "execution_count": 26,
   "metadata": {},
   "outputs": [
    {
     "name": "stdout",
     "output_type": "stream",
     "text": [
      "Please enter your new password: type\n",
      "Your password needs more numbers\n"
     ]
    }
   ],
   "source": [
    "# your code here\n",
    "password = input(\"Please enter your new password: \")\n",
    "if password.isalnum():\n",
    "    letter_counter = 0\n",
    "    number_counter = 0\n",
    "    for i in password:\n",
    "        if i.isdigit(): \n",
    "            number_counter= number_counter+1\n",
    "        else:\n",
    "            letter_counter= letter_counter+1\n",
    "    if letter_counter<1:\n",
    "        print(\"Your password needs more letters\")\n",
    "    elif number_counter<1:\n",
    "        print(\"Your password needs more numbers\")\n",
    "    else:\n",
    "        print(\"good password\")\n",
    "else:\n",
    "    print(\"Your password has some unexpected special characters. Try again with only alphanumeric characters\")"
   ]
  }
 ],
 "metadata": {
  "kernelspec": {
   "display_name": "Python 3",
   "language": "python",
   "name": "python3"
  },
  "language_info": {
   "codemirror_mode": {
    "name": "ipython",
    "version": 3
   },
   "file_extension": ".py",
   "mimetype": "text/x-python",
   "name": "python",
   "nbconvert_exporter": "python",
   "pygments_lexer": "ipython3",
   "version": "3.7.4"
  }
 },
 "nbformat": 4,
 "nbformat_minor": 2
}
