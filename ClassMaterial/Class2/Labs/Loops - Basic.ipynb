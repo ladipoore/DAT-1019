{
 "cells": [
  {
   "cell_type": "markdown",
   "metadata": {},
   "source": [
    "### Basic Loops\n",
    "\n",
    "**Who This Workbook Is For**:  If you're newer to python and want to do simple exercises to make sure you feel like you 'get it', and don't have any confusions about basic syntax, then this is the workbook for you.\n",
    "\n",
    "If you want something more engaging that's not geared towards beginners, please use the other workbook."
   ]
  },
  {
   "cell_type": "markdown",
   "metadata": {},
   "source": [
    "**Step 1:** Loop through the list, and print the name of each item in the list. "
   ]
  },
  {
   "cell_type": "code",
   "execution_count": 2,
   "metadata": {},
   "outputs": [],
   "source": [
    "fruits = ['bananas', 'cumquat', 'watermelon', 'cherry', 'mango', 'soursop', 'apricot', 'nectarine']"
   ]
  },
  {
   "cell_type": "code",
   "execution_count": 3,
   "metadata": {},
   "outputs": [
    {
     "name": "stdout",
     "output_type": "stream",
     "text": [
      "bananas\n",
      "cumquat\n",
      "watermelon\n",
      "cherry\n",
      "mango\n",
      "soursop\n",
      "apricot\n",
      "nectarine\n"
     ]
    }
   ],
   "source": [
    "# your answer here\n",
    "for fruit in fruits:\n",
    "    print(fruit)"
   ]
  },
  {
   "cell_type": "markdown",
   "metadata": {},
   "source": [
    "**Step 2:** Loop through the list, and print the name of each item, as well as its length"
   ]
  },
  {
   "cell_type": "code",
   "execution_count": 5,
   "metadata": {},
   "outputs": [
    {
     "name": "stdout",
     "output_type": "stream",
     "text": [
      "bananas\n",
      "The length of the fruit's name is 7\n",
      "cumquat\n",
      "The length of the fruit's name is 7\n",
      "watermelon\n",
      "The length of the fruit's name is 10\n",
      "cherry\n",
      "The length of the fruit's name is 6\n",
      "mango\n",
      "The length of the fruit's name is 5\n",
      "soursop\n",
      "The length of the fruit's name is 7\n",
      "apricot\n",
      "The length of the fruit's name is 7\n",
      "nectarine\n",
      "The length of the fruit's name is 9\n"
     ]
    }
   ],
   "source": [
    "# your answer here\n",
    "for fruit in fruits:\n",
    "    print(fruit)\n",
    "    print(f\"The length of the fruit's name is {len(fruit)}\")"
   ]
  },
  {
   "cell_type": "markdown",
   "metadata": {},
   "source": [
    "**Step 3:** Loop through the list, and print the name of the item, *if it's length is an even number*"
   ]
  },
  {
   "cell_type": "code",
   "execution_count": 6,
   "metadata": {},
   "outputs": [
    {
     "name": "stdout",
     "output_type": "stream",
     "text": [
      "bananas\n",
      "The fruit's length is odd\n",
      "cumquat\n",
      "The fruit's length is odd\n",
      "watermelon\n",
      "The fruit's length is even\n",
      "cherry\n",
      "The fruit's length is even\n",
      "mango\n",
      "The fruit's length is odd\n",
      "soursop\n",
      "The fruit's length is odd\n",
      "apricot\n",
      "The fruit's length is odd\n",
      "nectarine\n",
      "The fruit's length is odd\n"
     ]
    }
   ],
   "source": [
    "# your answer here\n",
    "for fruit in fruits:\n",
    "    if len(fruit)%2 == 0:\n",
    "        item = \"even\"\n",
    "    else:\n",
    "        item = \"odd\"\n",
    "    print(fruit)\n",
    "    print(f\"The fruit's length is {item}\")\n",
    "        "
   ]
  },
  {
   "cell_type": "markdown",
   "metadata": {},
   "source": [
    "**Step 4:** Create a variable that's an empty list, and add the item in the `fruits` list to it if it's length is an even number."
   ]
  },
  {
   "cell_type": "code",
   "execution_count": 8,
   "metadata": {},
   "outputs": [],
   "source": [
    "# your answer here\n",
    "new_list = []\n",
    "for fruit in fruits:\n",
    "    if len(fruit)%2==0:\n",
    "        new_list.append(fruit)"
   ]
  },
  {
   "cell_type": "markdown",
   "metadata": {},
   "source": [
    "**Step 5:** Loop through the `fruits` list, but *stop* the loop as soon as you come across an item that's more than 7 characters long."
   ]
  },
  {
   "cell_type": "code",
   "execution_count": 10,
   "metadata": {},
   "outputs": [],
   "source": [
    "# your answer here"
   ]
  },
  {
   "cell_type": "code",
   "execution_count": 12,
   "metadata": {},
   "outputs": [
    {
     "name": "stdout",
     "output_type": "stream",
     "text": [
      "bananas\n",
      "cumquat\n",
      "watermelon\n"
     ]
    }
   ],
   "source": [
    "for fruit in fruits:\n",
    "    print(fruit)\n",
    "    if len(fruit)>7:\n",
    "        break"
   ]
  },
  {
   "cell_type": "markdown",
   "metadata": {},
   "source": [
    "**Step 6:** Create a loop that only prints every third item in the list\n",
    "\n",
    "**Hint:** `enumerate()` is a useful function for this sort of thing.  More info on that here:  https://www.programiz.com/python-programming/methods/built-in/enumerate"
   ]
  },
  {
   "cell_type": "code",
   "execution_count": 14,
   "metadata": {},
   "outputs": [
    {
     "name": "stdout",
     "output_type": "stream",
     "text": [
      "watermelon\n",
      "soursop\n"
     ]
    }
   ],
   "source": [
    "new_enum_fruits = enumerate(fruits)\n",
    "for item in new_enum_fruits:\n",
    "    if (item[0]+1)%3==0:\n",
    "        print(item[1])"
   ]
  }
 ],
 "metadata": {
  "kernelspec": {
   "display_name": "Python 3",
   "language": "python",
   "name": "python3"
  },
  "language_info": {
   "codemirror_mode": {
    "name": "ipython",
    "version": 3
   },
   "file_extension": ".py",
   "mimetype": "text/x-python",
   "name": "python",
   "nbconvert_exporter": "python",
   "pygments_lexer": "ipython3",
   "version": "3.7.4"
  }
 },
 "nbformat": 4,
 "nbformat_minor": 2
}
